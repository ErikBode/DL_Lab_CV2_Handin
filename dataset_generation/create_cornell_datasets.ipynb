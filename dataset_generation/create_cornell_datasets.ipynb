{
 "cells": [
  {
   "cell_type": "markdown",
   "metadata": {},
   "source": [
    "# Make new Objective/Subjective dataset"
   ]
  },
  {
   "cell_type": "code",
   "execution_count": 21,
   "metadata": {},
   "outputs": [],
   "source": [
    "import datasets"
   ]
  },
  {
   "cell_type": "code",
   "execution_count": 20,
   "metadata": {},
   "outputs": [],
   "source": [
    "# Load the cornell Subjectivity datasets https://www.cs.cornell.edu/people/pabo/movie-review-data/\n",
    "# ANSI formatted text files\n",
    "objective_path = \"/home/erik/Lab_Project/DL_Lab_CV2/plot.tok.gt9.5000\"\n",
    "subjective_path = \"/home/erik/Lab_Project/DL_Lab_CV2/quote.tok.gt9.5000\"\n",
    "\n",
    "\n",
    "\n",
    "# Load the objective sentences\n",
    "with open(objective_path, \"r\", encoding=\"cp1252\") as f:\n",
    "    objective_sentences = f.readlines()\n",
    "    objective_sentences = [sentence.strip() for sentence in objective_sentences]\n",
    "    objective_sentences = [sentence.lower() for sentence in objective_sentences]\n",
    "\n",
    "# Load the subjective sentences\n",
    "with open(subjective_path, \"r\", encoding=\"cp1252\") as f:\n",
    "    subjective_sentences = f.readlines()\n",
    "    subjective_sentences = [sentence.strip() for sentence in subjective_sentences]\n",
    "    subjective_sentences = [sentence.lower() for sentence in subjective_sentences]\n"
   ]
  },
  {
   "cell_type": "code",
   "execution_count": 27,
   "metadata": {},
   "outputs": [],
   "source": [
    "# create HF datasets\n",
    "dataset_from_list_obj = datasets.Dataset.from_dict({\"text\": objective_sentences})\n",
    "dataset_from_list_subj = datasets.Dataset.from_dict({\"text\": subjective_sentences})\n",
    "\n",
    "dataset_list = [None, None]\n",
    "for i, temp in enumerate([dataset_from_list_obj, dataset_from_list_subj]):\n",
    "    # split into train and test\n",
    "    train = temp.train_test_split(test_size=0.02)\n",
    "    # split test into test and validation\n",
    "    test = train[\"test\"].train_test_split(test_size=0.5)\n",
    "    # aggregate into one dataset\n",
    "    dataset_list[i] = datasets.DatasetDict({\"train\": train[\"train\"], \"test\": test[\"train\"], \"validation\": test[\"test\"]})\n",
    "\n",
    "dataset_obj = dataset_list[0]\n",
    "dataset_subj = dataset_list[1]\n"
   ]
  },
  {
   "cell_type": "code",
   "execution_count": 28,
   "metadata": {},
   "outputs": [
    {
     "data": {
      "text/plain": [
       "DatasetDict({\n",
       "    train: Dataset({\n",
       "        features: ['text'],\n",
       "        num_rows: 4900\n",
       "    })\n",
       "    test: Dataset({\n",
       "        features: ['text'],\n",
       "        num_rows: 50\n",
       "    })\n",
       "    validation: Dataset({\n",
       "        features: ['text'],\n",
       "        num_rows: 50\n",
       "    })\n",
       "})"
      ]
     },
     "execution_count": 28,
     "metadata": {},
     "output_type": "execute_result"
    }
   ],
   "source": [
    "dataset_subj"
   ]
  },
  {
   "cell_type": "code",
   "execution_count": 29,
   "metadata": {},
   "outputs": [
    {
     "data": {
      "text/plain": [
       "DatasetDict({\n",
       "    train: Dataset({\n",
       "        features: ['text'],\n",
       "        num_rows: 4900\n",
       "    })\n",
       "    test: Dataset({\n",
       "        features: ['text'],\n",
       "        num_rows: 50\n",
       "    })\n",
       "    validation: Dataset({\n",
       "        features: ['text'],\n",
       "        num_rows: 50\n",
       "    })\n",
       "})"
      ]
     },
     "execution_count": 29,
     "metadata": {},
     "output_type": "execute_result"
    }
   ],
   "source": [
    "dataset_obj"
   ]
  },
  {
   "cell_type": "code",
   "execution_count": 30,
   "metadata": {},
   "outputs": [
    {
     "data": {
      "application/vnd.jupyter.widget-view+json": {
       "model_id": "1cf3627a5f3e45b8b59eaf2158272ee6",
       "version_major": 2,
       "version_minor": 0
      },
      "text/plain": [
       "Saving the dataset (0/1 shards):   0%|          | 0/4900 [00:00<?, ? examples/s]"
      ]
     },
     "metadata": {},
     "output_type": "display_data"
    },
    {
     "data": {
      "application/vnd.jupyter.widget-view+json": {
       "model_id": "c0ab0557c9cd4eb48b77a1ccf6118efd",
       "version_major": 2,
       "version_minor": 0
      },
      "text/plain": [
       "Saving the dataset (0/1 shards):   0%|          | 0/50 [00:00<?, ? examples/s]"
      ]
     },
     "metadata": {},
     "output_type": "display_data"
    },
    {
     "data": {
      "application/vnd.jupyter.widget-view+json": {
       "model_id": "3ea7592f42e24f87a1d55590498bfae5",
       "version_major": 2,
       "version_minor": 0
      },
      "text/plain": [
       "Saving the dataset (0/1 shards):   0%|          | 0/50 [00:00<?, ? examples/s]"
      ]
     },
     "metadata": {},
     "output_type": "display_data"
    },
    {
     "data": {
      "application/vnd.jupyter.widget-view+json": {
       "model_id": "1827aa1ef10045d085f49ff6ebea1813",
       "version_major": 2,
       "version_minor": 0
      },
      "text/plain": [
       "Saving the dataset (0/1 shards):   0%|          | 0/4900 [00:00<?, ? examples/s]"
      ]
     },
     "metadata": {},
     "output_type": "display_data"
    },
    {
     "data": {
      "application/vnd.jupyter.widget-view+json": {
       "model_id": "715a7dbf5bcb4743973c5f47a6ee57e6",
       "version_major": 2,
       "version_minor": 0
      },
      "text/plain": [
       "Saving the dataset (0/1 shards):   0%|          | 0/50 [00:00<?, ? examples/s]"
      ]
     },
     "metadata": {},
     "output_type": "display_data"
    },
    {
     "data": {
      "application/vnd.jupyter.widget-view+json": {
       "model_id": "7e9c9f8bba8342a2991f88354ea4231e",
       "version_major": 2,
       "version_minor": 0
      },
      "text/plain": [
       "Saving the dataset (0/1 shards):   0%|          | 0/50 [00:00<?, ? examples/s]"
      ]
     },
     "metadata": {},
     "output_type": "display_data"
    }
   ],
   "source": [
    "# save hf datasets\n",
    "dataset_subj.save_to_disk(\"kaggle/input/train-datasets/cornell_sub\")\n",
    "dataset_obj.save_to_disk(\"kaggle/input/train-datasets/cornell_obj\")"
   ]
  }
 ],
 "metadata": {
  "kernelspec": {
   "display_name": "Lab_Project",
   "language": "python",
   "name": "python3"
  },
  "language_info": {
   "codemirror_mode": {
    "name": "ipython",
    "version": 3
   },
   "file_extension": ".py",
   "mimetype": "text/x-python",
   "name": "python",
   "nbconvert_exporter": "python",
   "pygments_lexer": "ipython3",
   "version": "3.10.14"
  }
 },
 "nbformat": 4,
 "nbformat_minor": 2
}
